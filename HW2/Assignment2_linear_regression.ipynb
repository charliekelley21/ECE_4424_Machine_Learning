{
 "cells": [
  {
   "cell_type": "markdown",
   "metadata": {
    "colab_type": "text",
    "id": "C7mwFWzhux0J"
   },
   "source": [
    "# Programming Assignment 2: Linear regression"
   ]
  },
  {
   "cell_type": "markdown",
   "metadata": {
    "colab_type": "text",
    "id": "dGL2CVVeux0J"
   },
   "source": [
    "As we know, the COVID-19 pandemic has been disrupting people's life around the world. To get it under control, a crucial aspect is to be able to accurate forecast the spread of the disease, which can be helpful as a planning tool for policymakers, clinicians, and public health officers to deal with this crisis. In this notebook,we will try to do some forecasting on the covid-19 epidemic progression using machine learning. We will use a dataset based on the COVID-19 Data Repository at John Hopkins university."
   ]
  },
  {
   "cell_type": "code",
   "execution_count": 1,
   "metadata": {
    "colab": {},
    "colab_type": "code",
    "id": "oPSazMP4ux0K"
   },
   "outputs": [],
   "source": [
    "import pandas as pd\n",
    "from datetime import datetime, timedelta\n",
    "import matplotlib.pyplot as plt\n",
    "from matplotlib.dates import DateFormatter\n",
    "import matplotlib.dates as mdates\n",
    "import numpy as np\n",
    "from math import sqrt \n",
    "import sys\n",
    "import operator\n",
    "from progressbar import ProgressBar"
   ]
  },
  {
   "cell_type": "code",
   "execution_count": 2,
   "metadata": {},
   "outputs": [
    {
     "name": "stdout",
     "output_type": "stream",
     "text": [
      "3.8.3 (default, Jul  2 2020, 17:30:36) [MSC v.1916 64 bit (AMD64)]\n"
     ]
    }
   ],
   "source": [
    "print (sys.version)"
   ]
  },
  {
   "cell_type": "markdown",
   "metadata": {
    "colab_type": "text",
    "id": "EXqNTB03ux0O"
   },
   "source": [
    "First, let us load the data."
   ]
  },
  {
   "cell_type": "code",
   "execution_count": 3,
   "metadata": {
    "colab": {
     "base_uri": "https://localhost:8080/",
     "height": 609
    },
    "colab_type": "code",
    "id": "QsFsOYRTux0O",
    "outputId": "6f037511-0d17-42dc-d6aa-9982365d1f74"
   },
   "outputs": [
    {
     "name": "stdout",
     "output_type": "stream",
     "text": [
      "Index(['Unnamed: 0', 'date', 'Country', 'hospitalized_with_symptom',\n",
      "       'Intensive_care', 'Total_hospitalized', 'Home_Isolation',\n",
      "       'Total_positive', 'Daily_change_in_positive_cases',\n",
      "       'New_positive_cases', 'Recovered', 'Deaths', 'Total_cases',\n",
      "       'People_tested'],\n",
      "      dtype='object')\n"
     ]
    },
    {
     "data": {
      "text/html": [
       "<div>\n",
       "<style scoped>\n",
       "    .dataframe tbody tr th:only-of-type {\n",
       "        vertical-align: middle;\n",
       "    }\n",
       "\n",
       "    .dataframe tbody tr th {\n",
       "        vertical-align: top;\n",
       "    }\n",
       "\n",
       "    .dataframe thead th {\n",
       "        text-align: right;\n",
       "    }\n",
       "</style>\n",
       "<table border=\"1\" class=\"dataframe\">\n",
       "  <thead>\n",
       "    <tr style=\"text-align: right;\">\n",
       "      <th></th>\n",
       "      <th>Unnamed: 0</th>\n",
       "      <th>date</th>\n",
       "      <th>Country</th>\n",
       "      <th>hospitalized_with_symptom</th>\n",
       "      <th>Intensive_care</th>\n",
       "      <th>Total_hospitalized</th>\n",
       "      <th>Home_Isolation</th>\n",
       "      <th>Total_positive</th>\n",
       "      <th>Daily_change_in_positive_cases</th>\n",
       "      <th>New_positive_cases</th>\n",
       "      <th>Recovered</th>\n",
       "      <th>Deaths</th>\n",
       "      <th>Total_cases</th>\n",
       "      <th>People_tested</th>\n",
       "    </tr>\n",
       "  </thead>\n",
       "  <tbody>\n",
       "    <tr>\n",
       "      <th>0</th>\n",
       "      <td>0</td>\n",
       "      <td>2020-02-24T18:00:00</td>\n",
       "      <td>US</td>\n",
       "      <td>101</td>\n",
       "      <td>26</td>\n",
       "      <td>127</td>\n",
       "      <td>94</td>\n",
       "      <td>221</td>\n",
       "      <td>0</td>\n",
       "      <td>221</td>\n",
       "      <td>1</td>\n",
       "      <td>7</td>\n",
       "      <td>229</td>\n",
       "      <td>4324</td>\n",
       "    </tr>\n",
       "    <tr>\n",
       "      <th>1</th>\n",
       "      <td>1</td>\n",
       "      <td>2020-02-25T18:00:00</td>\n",
       "      <td>US</td>\n",
       "      <td>114</td>\n",
       "      <td>35</td>\n",
       "      <td>150</td>\n",
       "      <td>162</td>\n",
       "      <td>311</td>\n",
       "      <td>90</td>\n",
       "      <td>93</td>\n",
       "      <td>1</td>\n",
       "      <td>10</td>\n",
       "      <td>322</td>\n",
       "      <td>8623</td>\n",
       "    </tr>\n",
       "    <tr>\n",
       "      <th>2</th>\n",
       "      <td>2</td>\n",
       "      <td>2020-02-26T18:00:00</td>\n",
       "      <td>US</td>\n",
       "      <td>128</td>\n",
       "      <td>36</td>\n",
       "      <td>164</td>\n",
       "      <td>221</td>\n",
       "      <td>385</td>\n",
       "      <td>74</td>\n",
       "      <td>78</td>\n",
       "      <td>3</td>\n",
       "      <td>12</td>\n",
       "      <td>400</td>\n",
       "      <td>9587</td>\n",
       "    </tr>\n",
       "    <tr>\n",
       "      <th>3</th>\n",
       "      <td>3</td>\n",
       "      <td>2020-02-27T18:00:00</td>\n",
       "      <td>US</td>\n",
       "      <td>248</td>\n",
       "      <td>56</td>\n",
       "      <td>304</td>\n",
       "      <td>284</td>\n",
       "      <td>588</td>\n",
       "      <td>203</td>\n",
       "      <td>250</td>\n",
       "      <td>45</td>\n",
       "      <td>17</td>\n",
       "      <td>650</td>\n",
       "      <td>12014</td>\n",
       "    </tr>\n",
       "    <tr>\n",
       "      <th>4</th>\n",
       "      <td>4</td>\n",
       "      <td>2020-02-28T18:00:00</td>\n",
       "      <td>US</td>\n",
       "      <td>345</td>\n",
       "      <td>64</td>\n",
       "      <td>409</td>\n",
       "      <td>412</td>\n",
       "      <td>821</td>\n",
       "      <td>233</td>\n",
       "      <td>238</td>\n",
       "      <td>46</td>\n",
       "      <td>21</td>\n",
       "      <td>888</td>\n",
       "      <td>15695</td>\n",
       "    </tr>\n",
       "    <tr>\n",
       "      <th>...</th>\n",
       "      <td>...</td>\n",
       "      <td>...</td>\n",
       "      <td>...</td>\n",
       "      <td>...</td>\n",
       "      <td>...</td>\n",
       "      <td>...</td>\n",
       "      <td>...</td>\n",
       "      <td>...</td>\n",
       "      <td>...</td>\n",
       "      <td>...</td>\n",
       "      <td>...</td>\n",
       "      <td>...</td>\n",
       "      <td>...</td>\n",
       "      <td>...</td>\n",
       "    </tr>\n",
       "    <tr>\n",
       "      <th>201</th>\n",
       "      <td>201</td>\n",
       "      <td>2020-09-12T17:00:00</td>\n",
       "      <td>US</td>\n",
       "      <td>1951</td>\n",
       "      <td>182</td>\n",
       "      <td>2133</td>\n",
       "      <td>35370</td>\n",
       "      <td>37503</td>\n",
       "      <td>736</td>\n",
       "      <td>1501</td>\n",
       "      <td>213191</td>\n",
       "      <td>35603</td>\n",
       "      <td>286297</td>\n",
       "      <td>9745975</td>\n",
       "    </tr>\n",
       "    <tr>\n",
       "      <th>202</th>\n",
       "      <td>202</td>\n",
       "      <td>2020-09-13T17:00:00</td>\n",
       "      <td>US</td>\n",
       "      <td>2042</td>\n",
       "      <td>187</td>\n",
       "      <td>2229</td>\n",
       "      <td>36280</td>\n",
       "      <td>38509</td>\n",
       "      <td>1006</td>\n",
       "      <td>1458</td>\n",
       "      <td>213634</td>\n",
       "      <td>35610</td>\n",
       "      <td>287753</td>\n",
       "      <td>9818118</td>\n",
       "    </tr>\n",
       "    <tr>\n",
       "      <th>203</th>\n",
       "      <td>203</td>\n",
       "      <td>2020-09-14T17:00:00</td>\n",
       "      <td>US</td>\n",
       "      <td>2122</td>\n",
       "      <td>197</td>\n",
       "      <td>2319</td>\n",
       "      <td>36868</td>\n",
       "      <td>39187</td>\n",
       "      <td>678</td>\n",
       "      <td>1008</td>\n",
       "      <td>213950</td>\n",
       "      <td>35624</td>\n",
       "      <td>288761</td>\n",
       "      <td>9863427</td>\n",
       "    </tr>\n",
       "    <tr>\n",
       "      <th>204</th>\n",
       "      <td>204</td>\n",
       "      <td>2020-09-15T17:00:00</td>\n",
       "      <td>US</td>\n",
       "      <td>2222</td>\n",
       "      <td>201</td>\n",
       "      <td>2423</td>\n",
       "      <td>37289</td>\n",
       "      <td>39712</td>\n",
       "      <td>525</td>\n",
       "      <td>1229</td>\n",
       "      <td>214645</td>\n",
       "      <td>35633</td>\n",
       "      <td>289990</td>\n",
       "      <td>9943944</td>\n",
       "    </tr>\n",
       "    <tr>\n",
       "      <th>205</th>\n",
       "      <td>205</td>\n",
       "      <td>2020-09-16T17:00:00</td>\n",
       "      <td>US</td>\n",
       "      <td>2285</td>\n",
       "      <td>207</td>\n",
       "      <td>2492</td>\n",
       "      <td>38040</td>\n",
       "      <td>40532</td>\n",
       "      <td>820</td>\n",
       "      <td>1452</td>\n",
       "      <td>215265</td>\n",
       "      <td>35645</td>\n",
       "      <td>291442</td>\n",
       "      <td>10044551</td>\n",
       "    </tr>\n",
       "  </tbody>\n",
       "</table>\n",
       "<p>206 rows × 14 columns</p>\n",
       "</div>"
      ],
      "text/plain": [
       "     Unnamed: 0                 date Country  hospitalized_with_symptom  \\\n",
       "0             0  2020-02-24T18:00:00      US                        101   \n",
       "1             1  2020-02-25T18:00:00      US                        114   \n",
       "2             2  2020-02-26T18:00:00      US                        128   \n",
       "3             3  2020-02-27T18:00:00      US                        248   \n",
       "4             4  2020-02-28T18:00:00      US                        345   \n",
       "..          ...                  ...     ...                        ...   \n",
       "201         201  2020-09-12T17:00:00      US                       1951   \n",
       "202         202  2020-09-13T17:00:00      US                       2042   \n",
       "203         203  2020-09-14T17:00:00      US                       2122   \n",
       "204         204  2020-09-15T17:00:00      US                       2222   \n",
       "205         205  2020-09-16T17:00:00      US                       2285   \n",
       "\n",
       "     Intensive_care  Total_hospitalized  Home_Isolation  Total_positive  \\\n",
       "0                26                 127              94             221   \n",
       "1                35                 150             162             311   \n",
       "2                36                 164             221             385   \n",
       "3                56                 304             284             588   \n",
       "4                64                 409             412             821   \n",
       "..              ...                 ...             ...             ...   \n",
       "201             182                2133           35370           37503   \n",
       "202             187                2229           36280           38509   \n",
       "203             197                2319           36868           39187   \n",
       "204             201                2423           37289           39712   \n",
       "205             207                2492           38040           40532   \n",
       "\n",
       "     Daily_change_in_positive_cases  New_positive_cases  Recovered  Deaths  \\\n",
       "0                                 0                 221          1       7   \n",
       "1                                90                  93          1      10   \n",
       "2                                74                  78          3      12   \n",
       "3                               203                 250         45      17   \n",
       "4                               233                 238         46      21   \n",
       "..                              ...                 ...        ...     ...   \n",
       "201                             736                1501     213191   35603   \n",
       "202                            1006                1458     213634   35610   \n",
       "203                             678                1008     213950   35624   \n",
       "204                             525                1229     214645   35633   \n",
       "205                             820                1452     215265   35645   \n",
       "\n",
       "     Total_cases  People_tested  \n",
       "0            229           4324  \n",
       "1            322           8623  \n",
       "2            400           9587  \n",
       "3            650          12014  \n",
       "4            888          15695  \n",
       "..           ...            ...  \n",
       "201       286297        9745975  \n",
       "202       287753        9818118  \n",
       "203       288761        9863427  \n",
       "204       289990        9943944  \n",
       "205       291442       10044551  \n",
       "\n",
       "[206 rows x 14 columns]"
      ]
     },
     "execution_count": 3,
     "metadata": {},
     "output_type": "execute_result"
    }
   ],
   "source": [
    "data_orig = pd.read_csv(\"us_covid_data.csv\")\n",
    "data = data_orig.copy()\n",
    "print (data_orig.columns)\n",
    "data_orig"
   ]
  },
  {
   "cell_type": "code",
   "execution_count": 4,
   "metadata": {},
   "outputs": [],
   "source": [
    "# change the date format\n",
    "dates = data['date']\n",
    "date_format = [pd.to_datetime(d) for d in dates]"
   ]
  },
  {
   "cell_type": "markdown",
   "metadata": {
    "colab_type": "text",
    "id": "fm30YZRHux0U"
   },
   "source": [
    "# Data Visualization"
   ]
  },
  {
   "cell_type": "markdown",
   "metadata": {
    "colab_type": "text",
    "id": "PlyWWlKOux0V"
   },
   "source": [
    "**Task P1:** complete the following **three** visualization graphs that show the trend of the epidemic progression. Copy them to the solution file."
   ]
  },
  {
   "cell_type": "markdown",
   "metadata": {},
   "source": [
    "Graph 1: plot the total number of people tested for the entire period of the dataset. Your X axis will be the dates (\"Dates\") and Y-axis will be the total number of cases (\"People_tested\") over the period of time."
   ]
  },
  {
   "cell_type": "code",
   "execution_count": 5,
   "metadata": {
    "colab": {
     "base_uri": "https://localhost:8080/",
     "height": 350
    },
    "colab_type": "code",
    "id": "bXceVTTVux0V",
    "outputId": "d9cd606d-54fb-47ef-b891-501c7a23eaf9"
   },
   "outputs": [
    {
     "data": {
      "text/plain": [
       "<function matplotlib.pyplot.show(*args, **kw)>"
      ]
     },
     "execution_count": 5,
     "metadata": {},
     "output_type": "execute_result"
    },
    {
     "data": {
      "image/png": "[encoded data removed]",
      "text/plain": [
       "<Figure size 432x288 with 1 Axes>"
      ]
     },
     "metadata": {
      "needs_background": "light"
     },
     "output_type": "display_data"
    }
   ],
   "source": [
    "# Add code to plot the trend of the total number of people being tested as days progressed.\n",
    "# X axis -> dates('Dates')\n",
    "# Y axis -> number of people tested.('People_tested')\n",
    "\n",
    "### STUDENT: Start of Code ###\n",
    "plt.plot(date_format, data['People_tested'])\n",
    "plt.xlabel('Dates')\n",
    "plt.ylabel('People_tested')\n",
    "plt.show\n",
    "\n",
    "### End of code ####"
   ]
  },
  {
   "cell_type": "markdown",
   "metadata": {},
   "source": [
    "Graph 2: plot the total number of deaths for the entire period. Your X axis will be the dates (\"Dates\") and Y-axis will be the total number of death cases(\"Deaths\") over the period of time."
   ]
  },
  {
   "cell_type": "code",
   "execution_count": 6,
   "metadata": {
    "colab": {
     "base_uri": "https://localhost:8080/",
     "height": 350
    },
    "colab_type": "code",
    "id": "9cadesV1ux0Y",
    "outputId": "eae2507a-be85-419f-ba63-58a7981a175d"
   },
   "outputs": [
    {
     "data": {
      "text/plain": [
       "<function matplotlib.pyplot.show(*args, **kw)>"
      ]
     },
     "execution_count": 6,
     "metadata": {},
     "output_type": "execute_result"
    },
    {
     "data": {
      "image/png": "[encoded data removed]",
      "text/plain": [
       "<Figure size 432x288 with 1 Axes>"
      ]
     },
     "metadata": {
      "needs_background": "light"
     },
     "output_type": "display_data"
    }
   ],
   "source": [
    "# Add code to plot the trend of total deaths as days progressed.\n",
    "# X axis -> dates ('Dates')\n",
    "# Y axis -> number of deaths ('Deaths')\n",
    "\n",
    "\n",
    "### STUDENT: Start of Code ###\n",
    "plt.plot(date_format, data['Deaths'])\n",
    "plt.xlabel('Dates')\n",
    "plt.ylabel('Deaths')\n",
    "plt.show\n",
    "\n",
    "### End of code ####"
   ]
  },
  {
   "cell_type": "markdown",
   "metadata": {
    "colab": {},
    "colab_type": "code",
    "id": "eDJ857lvux0b"
   },
   "source": [
    "Graph 3: plot the total number of infected cases for the entire period. Your X axis will be the dates (\"Dates\") and Y-axis will be the total number of infected cases ('New_positive_cases') over the period of time."
   ]
  },
  {
   "cell_type": "code",
   "execution_count": 7,
   "metadata": {
    "colab": {
     "base_uri": "https://localhost:8080/",
     "height": 350
    },
    "colab_type": "code",
    "id": "OAjc8x6Gux0e",
    "outputId": "f4a9b191-d089-4465-bef1-74629bc22bca"
   },
   "outputs": [
    {
     "data": {
      "text/plain": [
       "<function matplotlib.pyplot.show(*args, **kw)>"
      ]
     },
     "execution_count": 7,
     "metadata": {},
     "output_type": "execute_result"
    },
    {
     "data": {
      "image/png": "[encoded data removed]",
      "text/plain": [
       "<Figure size 432x288 with 1 Axes>"
      ]
     },
     "metadata": {
      "needs_background": "light"
     },
     "output_type": "display_data"
    }
   ],
   "source": [
    "### STUDENT: Start of Code ###\n",
    "\n",
    "plt.plot(date_format, data['New_positive_cases'])\n",
    "plt.xlabel('Dates')\n",
    "plt.ylabel('New_positive_cases')\n",
    "plt.show\n",
    "\n",
    "### End of code ####"
   ]
  },
  {
   "cell_type": "markdown",
   "metadata": {},
   "source": [
    "As we can see that our data has different ranges of values for every feature and this can cause problems in our model, so here we will normalize our data (ignoring the categorical variables) so that our data is scaled between 0 and 1. The downside, however, is that the numbers are no longer interpretable. To interpret it, you need to multiply back by the scaling factor.\n",
    "\n",
    "**IMPORTANT: ** From now on, we will work with the normalized features to build the regression model. However, in **Task P8**, you need to convert the number back to the actual units."
   ]
  },
  {
   "cell_type": "code",
   "execution_count": 8,
   "metadata": {},
   "outputs": [
    {
     "data": {
      "text/html": [
       "<div>\n",
       "<style scoped>\n",
       "    .dataframe tbody tr th:only-of-type {\n",
       "        vertical-align: middle;\n",
       "    }\n",
       "\n",
       "    .dataframe tbody tr th {\n",
       "        vertical-align: top;\n",
       "    }\n",
       "\n",
       "    .dataframe thead th {\n",
       "        text-align: right;\n",
       "    }\n",
       "</style>\n",
       "<table border=\"1\" class=\"dataframe\">\n",
       "  <thead>\n",
       "    <tr style=\"text-align: right;\">\n",
       "      <th></th>\n",
       "      <th>Unnamed: 0</th>\n",
       "      <th>date</th>\n",
       "      <th>Country</th>\n",
       "      <th>hospitalized_with_symptom</th>\n",
       "      <th>Intensive_care</th>\n",
       "      <th>Total_hospitalized</th>\n",
       "      <th>Home_Isolation</th>\n",
       "      <th>Total_positive</th>\n",
       "      <th>Daily_change_in_positive_cases</th>\n",
       "      <th>New_positive_cases</th>\n",
       "      <th>Recovered</th>\n",
       "      <th>Deaths</th>\n",
       "      <th>Total_cases</th>\n",
       "      <th>People_tested</th>\n",
       "    </tr>\n",
       "  </thead>\n",
       "  <tbody>\n",
       "    <tr>\n",
       "      <th>0</th>\n",
       "      <td>0</td>\n",
       "      <td>2020-02-24T18:00:00</td>\n",
       "      <td>US</td>\n",
       "      <td>0.000000</td>\n",
       "      <td>0.000000</td>\n",
       "      <td>0.000000</td>\n",
       "      <td>0.000000</td>\n",
       "      <td>0.000000</td>\n",
       "      <td>0.590051</td>\n",
       "      <td>0.022071</td>\n",
       "      <td>0.000000</td>\n",
       "      <td>0.000000</td>\n",
       "      <td>0.000000</td>\n",
       "      <td>0.000000</td>\n",
       "    </tr>\n",
       "    <tr>\n",
       "      <th>1</th>\n",
       "      <td>1</td>\n",
       "      <td>2020-02-25T18:00:00</td>\n",
       "      <td>US</td>\n",
       "      <td>0.000450</td>\n",
       "      <td>0.002227</td>\n",
       "      <td>0.000700</td>\n",
       "      <td>0.000814</td>\n",
       "      <td>0.000833</td>\n",
       "      <td>0.597704</td>\n",
       "      <td>0.002315</td>\n",
       "      <td>0.000000</td>\n",
       "      <td>0.000084</td>\n",
       "      <td>0.000319</td>\n",
       "      <td>0.000428</td>\n",
       "    </tr>\n",
       "    <tr>\n",
       "      <th>2</th>\n",
       "      <td>2</td>\n",
       "      <td>2020-02-26T18:00:00</td>\n",
       "      <td>US</td>\n",
       "      <td>0.000934</td>\n",
       "      <td>0.002474</td>\n",
       "      <td>0.001125</td>\n",
       "      <td>0.001520</td>\n",
       "      <td>0.001518</td>\n",
       "      <td>0.596344</td>\n",
       "      <td>0.000000</td>\n",
       "      <td>0.000009</td>\n",
       "      <td>0.000140</td>\n",
       "      <td>0.000587</td>\n",
       "      <td>0.000524</td>\n",
       "    </tr>\n",
       "    <tr>\n",
       "      <th>3</th>\n",
       "      <td>3</td>\n",
       "      <td>2020-02-27T18:00:00</td>\n",
       "      <td>US</td>\n",
       "      <td>0.005085</td>\n",
       "      <td>0.007422</td>\n",
       "      <td>0.005384</td>\n",
       "      <td>0.002274</td>\n",
       "      <td>0.003397</td>\n",
       "      <td>0.607313</td>\n",
       "      <td>0.026547</td>\n",
       "      <td>0.000204</td>\n",
       "      <td>0.000281</td>\n",
       "      <td>0.001446</td>\n",
       "      <td>0.000766</td>\n",
       "    </tr>\n",
       "    <tr>\n",
       "      <th>4</th>\n",
       "      <td>4</td>\n",
       "      <td>2020-02-28T18:00:00</td>\n",
       "      <td>US</td>\n",
       "      <td>0.008440</td>\n",
       "      <td>0.009401</td>\n",
       "      <td>0.008577</td>\n",
       "      <td>0.003806</td>\n",
       "      <td>0.005554</td>\n",
       "      <td>0.609864</td>\n",
       "      <td>0.024695</td>\n",
       "      <td>0.000209</td>\n",
       "      <td>0.000393</td>\n",
       "      <td>0.002263</td>\n",
       "      <td>0.001133</td>\n",
       "    </tr>\n",
       "    <tr>\n",
       "      <th>...</th>\n",
       "      <td>...</td>\n",
       "      <td>...</td>\n",
       "      <td>...</td>\n",
       "      <td>...</td>\n",
       "      <td>...</td>\n",
       "      <td>...</td>\n",
       "      <td>...</td>\n",
       "      <td>...</td>\n",
       "      <td>...</td>\n",
       "      <td>...</td>\n",
       "      <td>...</td>\n",
       "      <td>...</td>\n",
       "      <td>...</td>\n",
       "      <td>...</td>\n",
       "    </tr>\n",
       "    <tr>\n",
       "      <th>201</th>\n",
       "      <td>201</td>\n",
       "      <td>2020-09-12T17:00:00</td>\n",
       "      <td>US</td>\n",
       "      <td>0.063994</td>\n",
       "      <td>0.038595</td>\n",
       "      <td>0.061015</td>\n",
       "      <td>0.422174</td>\n",
       "      <td>0.345089</td>\n",
       "      <td>0.652636</td>\n",
       "      <td>0.219633</td>\n",
       "      <td>0.990365</td>\n",
       "      <td>0.998821</td>\n",
       "      <td>0.982333</td>\n",
       "      <td>0.970262</td>\n",
       "    </tr>\n",
       "    <tr>\n",
       "      <th>202</th>\n",
       "      <td>202</td>\n",
       "      <td>2020-09-13T17:00:00</td>\n",
       "      <td>US</td>\n",
       "      <td>0.067142</td>\n",
       "      <td>0.039832</td>\n",
       "      <td>0.063935</td>\n",
       "      <td>0.433064</td>\n",
       "      <td>0.354400</td>\n",
       "      <td>0.675595</td>\n",
       "      <td>0.212996</td>\n",
       "      <td>0.992423</td>\n",
       "      <td>0.999018</td>\n",
       "      <td>0.987332</td>\n",
       "      <td>0.977447</td>\n",
       "    </tr>\n",
       "    <tr>\n",
       "      <th>203</th>\n",
       "      <td>203</td>\n",
       "      <td>2020-09-14T17:00:00</td>\n",
       "      <td>US</td>\n",
       "      <td>0.069909</td>\n",
       "      <td>0.042306</td>\n",
       "      <td>0.066673</td>\n",
       "      <td>0.440101</td>\n",
       "      <td>0.360676</td>\n",
       "      <td>0.647704</td>\n",
       "      <td>0.143541</td>\n",
       "      <td>0.993891</td>\n",
       "      <td>0.999411</td>\n",
       "      <td>0.990794</td>\n",
       "      <td>0.981960</td>\n",
       "    </tr>\n",
       "    <tr>\n",
       "      <th>204</th>\n",
       "      <td>204</td>\n",
       "      <td>2020-09-15T17:00:00</td>\n",
       "      <td>US</td>\n",
       "      <td>0.073368</td>\n",
       "      <td>0.043295</td>\n",
       "      <td>0.069836</td>\n",
       "      <td>0.445140</td>\n",
       "      <td>0.365536</td>\n",
       "      <td>0.634694</td>\n",
       "      <td>0.177651</td>\n",
       "      <td>0.997120</td>\n",
       "      <td>0.999663</td>\n",
       "      <td>0.995014</td>\n",
       "      <td>0.989980</td>\n",
       "    </tr>\n",
       "    <tr>\n",
       "      <th>205</th>\n",
       "      <td>205</td>\n",
       "      <td>2020-09-16T17:00:00</td>\n",
       "      <td>US</td>\n",
       "      <td>0.075547</td>\n",
       "      <td>0.044780</td>\n",
       "      <td>0.071935</td>\n",
       "      <td>0.454128</td>\n",
       "      <td>0.373126</td>\n",
       "      <td>0.659779</td>\n",
       "      <td>0.212070</td>\n",
       "      <td>1.000000</td>\n",
       "      <td>1.000000</td>\n",
       "      <td>1.000000</td>\n",
       "      <td>1.000000</td>\n",
       "    </tr>\n",
       "  </tbody>\n",
       "</table>\n",
       "<p>206 rows × 14 columns</p>\n",
       "</div>"
      ],
      "text/plain": [
       "     Unnamed: 0                 date Country  hospitalized_with_symptom  \\\n",
       "0             0  2020-02-24T18:00:00      US                   0.000000   \n",
       "1             1  2020-02-25T18:00:00      US                   0.000450   \n",
       "2             2  2020-02-26T18:00:00      US                   0.000934   \n",
       "3             3  2020-02-27T18:00:00      US                   0.005085   \n",
       "4             4  2020-02-28T18:00:00      US                   0.008440   \n",
       "..          ...                  ...     ...                        ...   \n",
       "201         201  2020-09-12T17:00:00      US                   0.063994   \n",
       "202         202  2020-09-13T17:00:00      US                   0.067142   \n",
       "203         203  2020-09-14T17:00:00      US                   0.069909   \n",
       "204         204  2020-09-15T17:00:00      US                   0.073368   \n",
       "205         205  2020-09-16T17:00:00      US                   0.075547   \n",
       "\n",
       "     Intensive_care  Total_hospitalized  Home_Isolation  Total_positive  \\\n",
       "0          0.000000            0.000000        0.000000        0.000000   \n",
       "1          0.002227            0.000700        0.000814        0.000833   \n",
       "2          0.002474            0.001125        0.001520        0.001518   \n",
       "3          0.007422            0.005384        0.002274        0.003397   \n",
       "4          0.009401            0.008577        0.003806        0.005554   \n",
       "..              ...                 ...             ...             ...   \n",
       "201        0.038595            0.061015        0.422174        0.345089   \n",
       "202        0.039832            0.063935        0.433064        0.354400   \n",
       "203        0.042306            0.066673        0.440101        0.360676   \n",
       "204        0.043295            0.069836        0.445140        0.365536   \n",
       "205        0.044780            0.071935        0.454128        0.373126   \n",
       "\n",
       "     Daily_change_in_positive_cases  New_positive_cases  Recovered    Deaths  \\\n",
       "0                          0.590051            0.022071   0.000000  0.000000   \n",
       "1                          0.597704            0.002315   0.000000  0.000084   \n",
       "2                          0.596344            0.000000   0.000009  0.000140   \n",
       "3                          0.607313            0.026547   0.000204  0.000281   \n",
       "4                          0.609864            0.024695   0.000209  0.000393   \n",
       "..                              ...                 ...        ...       ...   \n",
       "201                        0.652636            0.219633   0.990365  0.998821   \n",
       "202                        0.675595            0.212996   0.992423  0.999018   \n",
       "203                        0.647704            0.143541   0.993891  0.999411   \n",
       "204                        0.634694            0.177651   0.997120  0.999663   \n",
       "205                        0.659779            0.212070   1.000000  1.000000   \n",
       "\n",
       "     Total_cases  People_tested  \n",
       "0       0.000000       0.000000  \n",
       "1       0.000319       0.000428  \n",
       "2       0.000587       0.000524  \n",
       "3       0.001446       0.000766  \n",
       "4       0.002263       0.001133  \n",
       "..           ...            ...  \n",
       "201     0.982333       0.970262  \n",
       "202     0.987332       0.977447  \n",
       "203     0.990794       0.981960  \n",
       "204     0.995014       0.989980  \n",
       "205     1.000000       1.000000  \n",
       "\n",
       "[206 rows x 14 columns]"
      ]
     },
     "execution_count": 8,
     "metadata": {},
     "output_type": "execute_result"
    }
   ],
   "source": [
    "data_list = data_orig.columns.values.tolist()\n",
    "\n",
    "for i in data_list[-11:]:\n",
    "    data[[i]]=(data_orig[i]-data_orig[i].min())/(data_orig[i].max()-data_orig[i].min())\n",
    "    \n",
    "data"
   ]
  },
  {
   "cell_type": "markdown",
   "metadata": {
    "colab_type": "text",
    "id": "IQAJGhQNux0g"
   },
   "source": [
    "# Calculate the feature matrix"
   ]
  },
  {
   "cell_type": "markdown",
   "metadata": {
    "colab_type": "text",
    "id": "JkjaoLuGux0h"
   },
   "source": [
    "The following is a function that accepts a list of feature names (e.g. ['Total_Hospitalized', 'People_tested']) and an target feature e.g. ('Deaths') and returns two things:\n",
    "\n",
    "1. A numpy matrix whose columns are the desired features plus a column with a constant value 1, which is also known as the 'intercept'.\n",
    "2. A numpy array that contains the values of the target output.\n"
   ]
  },
  {
   "cell_type": "code",
   "execution_count": 9,
   "metadata": {
    "colab": {},
    "colab_type": "code",
    "id": "RXJqm-8oux0i"
   },
   "outputs": [],
   "source": [
    "def get_numpy_data(data_frame, features, output):\n",
    "    # Steps\n",
    "    # select the columns of data_Frame given by the features list into the variable features_sframe which will include the constant\n",
    "    # Convert the features_frame into a numpy matrix\n",
    "    # assign the column of data_frame associated with the output to the array output_array\n",
    "    # convert the array into a numpy array by first converting it to a list\n",
    "    # return feature_matrix,output_array\n",
    "    \n",
    "    data_frame['constant'] = 1 # here we are adding a constant column \n",
    "    # add the column 'constant' to the front of the features list.\n",
    "    features = ['constant'] + features\n",
    "        \n",
    "    # select the columns of data_Frame given by the features list into the variable features_sframe which will include the constant)\n",
    "    features_frame = data_frame[features]\n",
    "    \n",
    "    # Convert the features_frame into a numpy matrix\n",
    "    feature_matrix = features_frame.to_numpy()\n",
    "    # print (\"feature_matrix:\", feature_matrix)\n",
    "    \n",
    "    # assign the column of data_frame associated with the output to the array output_array\n",
    "    output_array = data_frame[output]\n",
    "    \n",
    "    # convert the array into a numpy array by first converting it to a list\n",
    "    output_array = output_array.to_numpy()\n",
    "    \n",
    "    return(feature_matrix, output_array)    "
   ]
  },
  {
   "cell_type": "markdown",
   "metadata": {},
   "source": [
    "For dates, we need to convert them into a sequence of numbers. We now add a new column to our dataframe corresponding to the number of days since the start of the dataset."
   ]
  },
  {
   "cell_type": "code",
   "execution_count": 10,
   "metadata": {},
   "outputs": [],
   "source": [
    "X = date_format\n",
    "day_numbers = []\n",
    "for i in range(1, len(X) + 1):\n",
    "    day_numbers.append([i])\n",
    "    \n",
    "data['Days'] = pd.DataFrame(day_numbers,columns = ['Days'])\n",
    "data[\"Days\"] = data[\"Days\"].astype(int)"
   ]
  },
  {
   "cell_type": "markdown",
   "metadata": {},
   "source": [
    "Test the above function for a particular input and output feature."
   ]
  },
  {
   "cell_type": "code",
   "execution_count": 11,
   "metadata": {
    "colab": {
     "base_uri": "https://localhost:8080/",
     "height": 52
    },
    "colab_type": "code",
    "id": "po3KtihNux0k",
    "outputId": "15bce6d6-1a80-4c6c-f2d3-d39fc0270024"
   },
   "outputs": [
    {
     "name": "stdout",
     "output_type": "stream",
     "text": [
      "[1 1]\n",
      "0.022071307300509338\n"
     ]
    }
   ],
   "source": [
    "(example_features, example_output) = get_numpy_data(data, ['Days'], 'New_positive_cases')\n",
    "print (example_features[0,:]) \n",
    "print (example_output[0]) "
   ]
  },
  {
   "cell_type": "markdown",
   "metadata": {},
   "source": [
    "# Predict the outputs with given regression weights"
   ]
  },
  {
   "cell_type": "markdown",
   "metadata": {},
   "source": [
    "Suppose we had the weights $[1, 1]$ corresponding to the features $[1, 100]$, to compute the predicted output, we can simply take the dot product between them, so the output is $1*1 + 1*100 = 101$. Now, let's create the data with "
   ]
  },
  {
   "cell_type": "code",
   "execution_count": 12,
   "metadata": {
    "colab": {},
    "colab_type": "code",
    "id": "0X6UmroKux0t"
   },
   "outputs": [],
   "source": [
    "(test_features, output) = get_numpy_data(data, ['Days'], 'People_tested')"
   ]
  },
  {
   "cell_type": "markdown",
   "metadata": {},
   "source": [
    "**Task P2:** Complete the following function  'predict_output'. Copy the the outputs of the code to the solution file."
   ]
  },
  {
   "cell_type": "code",
   "execution_count": 13,
   "metadata": {
    "colab": {},
    "colab_type": "code",
    "id": "9YpyW46tux0w"
   },
   "outputs": [],
   "source": [
    "def predict_output(feature_matrix, weights):\n",
    "    # Inputs:\n",
    "    # feature_matrix: a numpy matrix containing the features as columns (including the intercept), \n",
    "    #                 and each row corresponds to a data point\n",
    "    # weights: a numpy array for the corresponding regression weights (including the intercept)\n",
    "    # Output:\n",
    "    # a numpy array that contains the predicted outputs (according to the provided weights) \n",
    "    # for all the data points in the feature_matrix\n",
    " \n",
    "    # STUDENT: Start of code ####\n",
    "    predictions = []\n",
    "    for feature_row in feature_matrix:\n",
    "        predictions.append(np.dot(feature_row, weights))\n",
    "    return np.array(predictions)\n",
    "    ## end of code"
   ]
  },
  {
   "cell_type": "code",
   "execution_count": 14,
   "metadata": {},
   "outputs": [
    {
     "name": "stdout",
     "output_type": "stream",
     "text": [
      "(normalized) prediction at day 5:  7.0\n",
      "(normalized) prediction at day 20  22.0\n"
     ]
    }
   ],
   "source": [
    "# Copy the outputs of this code to the solution file\n",
    "my_weights = np.array([1., 1.])\n",
    "test_predictions = predict_output(example_features, my_weights)\n",
    "# print(example_features)\n",
    "print (\"(normalized) prediction at day 5: \", test_predictions[5]) \n",
    "print (\"(normalized) prediction at day 20 \", test_predictions[20])"
   ]
  },
  {
   "cell_type": "markdown",
   "metadata": {},
   "source": [
    "# Compute the derivative"
   ]
  },
  {
   "cell_type": "markdown",
   "metadata": {},
   "source": [
    "We will now compute the derivative of the regression cost function: \n",
    "$$L_D(w) = \\frac{1}{n}\\sum_{i=1}^n (y_i-w\\cdot x_i)^2,$$\n",
    "\n",
    "$$\\frac{\\partial}{\\partial w}L_D(w) = \\frac{2}{n}\\sum_{i=1}^n -x_i\\cdot(y_i-w\\cdot x_i),$$\n",
    "\n",
    "where $x_i\\in \\mathrm{R}^d$ is the input feature of dimension $d$, $y_i\\in\\mathrm{R}$ is the output response, and $w\\in\\mathrm{R}^d$ is the regression weights.\n",
    "\n",
    "**Task P3:** Complete the function 'weight_derivative' to calculate the derivative of the cost function with respect to regression weights $w$, i.e., $\\frac{\\partial}{\\partial w}L_D(w)$. Note that this should be a $d$ dimensional vector. Also copy the output of the code for the test example to the solution file."
   ]
  },
  {
   "cell_type": "code",
   "execution_count": 15,
   "metadata": {
    "colab": {},
    "colab_type": "code",
    "id": "Xvp0delpux00"
   },
   "outputs": [],
   "source": [
    "def weight_derivative(weights, feature_matrix, labels):\n",
    "    # Input:\n",
    "    # weights: weight vector w, a numpy vector of dimension d\n",
    "    # feature_matrix: numpy array of size n by d, where n is the number of data points, and d is the feature dimension\n",
    "    # labels: true labels y, a numpy vector of dimension d\n",
    "    # Output:\n",
    "    # Derivative of the regression cost function with respect to the weight w, a numpy array of dimension d\n",
    "        \n",
    "    ## STUDENT: Start of code ###\n",
    "    L_D = np.zeros(len(feature_matrix[0]))\n",
    "    prediction = predict_output(feature_matrix, weights)\n",
    "    for i in range(len(feature_matrix)):\n",
    "        scalar = np.dot(weights, feature_matrix[i]) - labels[i]\n",
    "        L_D += scalar * feature_matrix[i]\n",
    "    return (2 / len(feature_matrix)) * L_D\n",
    "    # End of code ###"
   ]
  },
  {
   "cell_type": "code",
   "execution_count": 16,
   "metadata": {
    "colab": {
     "base_uri": "https://localhost:8080/",
     "height": 35
    },
    "colab_type": "code",
    "id": "Wlr5Agi4ux03",
    "outputId": "682c66f6-d3b2-4ce4-c378-75a3c32d71ab"
   },
   "outputs": [
    {
     "name": "stdout",
     "output_type": "stream",
     "text": [
      "[  -0.82103242 -120.60087518]\n"
     ]
    }
   ],
   "source": [
    "# NOTE: copy the output to the solution file.\n",
    "\n",
    "(example_features, example_output) = get_numpy_data(data, ['Days'], 'People_tested') \n",
    "my_weights = np.array([0., 0.]) # this makes all the predictions 0\n",
    "derivative = weight_derivative(my_weights, example_features,example_output)\n",
    "\n",
    "print (derivative)"
   ]
  },
  {
   "cell_type": "markdown",
   "metadata": {},
   "source": [
    "# Gradient descent algorithm"
   ]
  },
  {
   "cell_type": "markdown",
   "metadata": {},
   "source": [
    "Here, we will write a function to perform gradient descent algorithm on the lineare regression cost. Given an initial point, we will update the current weights by moving in the negative gradient direction to minimize the cost function. Thus, in each iteration we obtain the updated weight $w_{t+1}$ from the current iterate $w_t$ as follows:\n",
    "$$w_{t+1} = w_t - h\\frac{\\partial}{\\partial w}L_D(w_t),$$\n",
    "where $h$ is the 'step_size' that is the amount by which we move in the negative gradient direction. \n",
    "\n",
    "We stop when we are sufficiently close to the optimum (where gradient is the zero vector) by checking the condition with respect to the magnitude (length) of the gradient vector:\n",
    "$$\\|\\frac{\\partial}{\\partial w}L_D(w_t)\\|_2\\leq \\epsilon,$$\n",
    "where $\\epsilon$ is the 'tolerance' parameter.\n",
    "\n",
    "**Task P4:** Complete the code section to perform the gradient decent in the function `regression_gradient_descent`. Copy the code to the solution file."
   ]
  },
  {
   "cell_type": "code",
   "execution_count": 17,
   "metadata": {
    "colab": {},
    "colab_type": "code",
    "id": "zo71SswVux1B"
   },
   "outputs": [],
   "source": [
    "def regression_gradient_descent(feature_matrix, labels, initial_weights, step_size, tolerance):\n",
    "    # Gradient descent algorithm for linear regression problem    \n",
    "    \n",
    "    # Input:\n",
    "    # feature_matrix: numpy array of size n by d, where n is the number of data points, and d is the feature dimension\n",
    "    # labels: true labels y, a numpy vector of dimension d\n",
    "    # initial_weights: initial weight vector to start with, a numpy vector of dimension d\n",
    "    # step_size: step size of update\n",
    "    # tolerance: tolerace epsilon for stopping condition\n",
    "    # Output:\n",
    "    # Weights obtained after convergence\n",
    "\n",
    "    converged = False \n",
    "    weights = np.array(initial_weights) # current iterate\n",
    "    i = 0\n",
    "    while not converged:\n",
    "        i += 1\n",
    "        # STUDENT: Start of code: your impelementation of what the gradient descent algorithm does in every iteration\n",
    "        # Refer back to the update rule listed above: update the weight\n",
    "        d_weight = weight_derivative(weights, feature_matrix, labels)\n",
    "        correction = step_size * d_weight\n",
    "        weights = np.subtract(weights, correction)\n",
    "        \n",
    "        # Compute the gradient magnitude:\n",
    "        \n",
    "        gradient_magnitude = np.linalg.norm(d_weight)\n",
    "        \n",
    "        # Check the stopping condition to decide whether you want to stop the iterations\n",
    "        if gradient_magnitude <= tolerance:              # STUDENT: check the stopping condition here\n",
    "            converged = True\n",
    "        \n",
    "        # End of code\n",
    "        \n",
    "#         print (\"Iteration: \",i,\"gradient_magnitude: \", gradient_magnitude) # for us to check about convergence\n",
    "        \n",
    "    return(weights)"
   ]
  },
  {
   "cell_type": "markdown",
   "metadata": {},
   "source": [
    "# Use gradient descent for linear regression"
   ]
  },
  {
   "cell_type": "markdown",
   "metadata": {},
   "source": [
    "Let's test the gradient descent algorithm for linear regression with a single feature ('Day'). Here we are using first 180 days' data as our training data."
   ]
  },
  {
   "cell_type": "code",
   "execution_count": 18,
   "metadata": {},
   "outputs": [],
   "source": [
    "#train_data\n",
    "train_data = data[:180]"
   ]
  },
  {
   "cell_type": "markdown",
   "metadata": {},
   "source": [
    "**Task P5:** Specify the initial_weights, step_size, and tolerance for the function `regression_gradient_descent`. Copy the outputs of the code to the solution file.\n"
   ]
  },
  {
   "cell_type": "code",
   "execution_count": 19,
   "metadata": {
    "colab": {},
    "colab_type": "code",
    "id": "Phah4z77ux1D"
   },
   "outputs": [
    {
     "name": "stdout",
     "output_type": "stream",
     "text": [
      "Here are the final weights after convergence:\n",
      "[2.30146386e-05 4.01343741e-03]\n"
     ]
    },
    {
     "name": "stderr",
     "output_type": "stream",
     "text": [
      "<ipython-input-9-ea0b874cb38f>:9: SettingWithCopyWarning: \n",
      "A value is trying to be set on a copy of a slice from a DataFrame.\n",
      "Try using .loc[row_indexer,col_indexer] = value instead\n",
      "\n",
      "See the caveats in the documentation: https://pandas.pydata.org/pandas-docs/stable/user_guide/indexing.html#returning-a-view-versus-a-copy\n",
      "  data_frame['constant'] = 1 # here we are adding a constant column\n"
     ]
    }
   ],
   "source": [
    "simple_features = ['Days']\n",
    "my_output = 'People_tested'\n",
    "\n",
    "# Use get_numpy_data method to calculate the feature matrix and output. \n",
    "(simple_feature_matrix, output) = get_numpy_data(train_data, simple_features, my_output)\n",
    "\n",
    "#Initialize the weights, step size and tolerance\n",
    "# Start of code\n",
    "#STUDENT: Specify the initial_weights, step_size, and tolerance\n",
    "initial_weights = [0, 0]\n",
    "step_size = 1e-5\n",
    "tolerance = 0.75\n",
    "# end of code\n",
    "\n",
    "# Use the regression_gradient_descent function to calculate the gradient decent and store it in the variable 'final_weights'\n",
    "final_weights = regression_gradient_descent(simple_feature_matrix, output, initial_weights, step_size, tolerance)\n",
    "\n",
    "# end of code\n",
    "print (\"Here are the final weights after convergence:\")\n",
    "print (final_weights)"
   ]
  },
  {
   "cell_type": "markdown",
   "metadata": {},
   "source": [
    "**Task P6:** Use the learned weights to predict 'People_tested' in the last three weeks in the dataset. Copy the predictions to the solution file, and calculate the test error\n",
    "$$\\frac{1}{n_{\\mathrm{tst}}}\\sum_{i=1}^{n_{\\mathrm{tst}}} (y_i^{\\mathrm{tst}}-\\hat{y}_i^{\\mathrm{tst}})^2,$$\n",
    "where $n_{\\mathrm{tst}}$ is the number of test data, $y_i^{\\mathrm{tst}}$ is the true label, $\\hat{y}_i^{\\mathrm{tst}}$ is the predicted label."
   ]
  },
  {
   "cell_type": "code",
   "execution_count": 20,
   "metadata": {},
   "outputs": [
    {
     "name": "stdout",
     "output_type": "stream",
     "text": [
      "[0.74652237 0.75053581 0.75454925 0.75856269 0.76257612 0.76658956\n",
      " 0.770603   0.77461644 0.77862987 0.78264331 0.78665675 0.79067019\n",
      " 0.79468362 0.79869706 0.8027105  0.80672393 0.81073737 0.81475081\n",
      " 0.81876425 0.82277768 0.82679112]\n"
     ]
    },
    {
     "name": "stderr",
     "output_type": "stream",
     "text": [
      "<ipython-input-9-ea0b874cb38f>:9: SettingWithCopyWarning: \n",
      "A value is trying to be set on a copy of a slice from a DataFrame.\n",
      "Try using .loc[row_indexer,col_indexer] = value instead\n",
      "\n",
      "See the caveats in the documentation: https://pandas.pydata.org/pandas-docs/stable/user_guide/indexing.html#returning-a-view-versus-a-copy\n",
      "  data_frame['constant'] = 1 # here we are adding a constant column\n"
     ]
    }
   ],
   "source": [
    "# Create the test data\n",
    "test_data = data.iloc[-21:]\n",
    "# print(test_data[\"People_tested\"])\n",
    "(test_simple_feature_matrix, test_output) = get_numpy_data(test_data, simple_features, my_output)\n",
    "test_predictions = predict_output(test_simple_feature_matrix, final_weights)\n",
    "print (test_predictions)"
   ]
  },
  {
   "cell_type": "code",
   "execution_count": 21,
   "metadata": {},
   "outputs": [
    {
     "name": "stdout",
     "output_type": "stream",
     "text": [
      "0.017328326473639064\n"
     ]
    }
   ],
   "source": [
    "# Calculate the test error\n",
    "# STUDENT: Start of code\n",
    "error = 0\n",
    "for i in range(len(test_predictions)):\n",
    "    error += (test_data[\"People_tested\"][185 + i] - test_predictions[i]) ** 2\n",
    "error /= len(test_predictions)\n",
    "print(error)\n",
    "#end of code"
   ]
  },
  {
   "cell_type": "markdown",
   "metadata": {},
   "source": [
    "# Linear regression using multiple features"
   ]
  },
  {
   "cell_type": "markdown",
   "metadata": {},
   "source": [
    "Here, we will be considering multiple input features (`Intensive_care`,`New_positive_cases`,`Days`) to predict the `People_tested` in the future.\n",
    "\n",
    "**Task P7:** Specify the initial_weights, step_size, and tolerance for the function `regression_gradient_descent`. Print the outputs of the code.\n"
   ]
  },
  {
   "cell_type": "code",
   "execution_count": 22,
   "metadata": {
    "colab": {},
    "colab_type": "code",
    "id": "QLB46yGYwV6J"
   },
   "outputs": [
    {
     "name": "stdout",
     "output_type": "stream",
     "text": [
      "Here are the final weights after convergence:\n",
      "[-0.15637694 -0.05073187  0.49912599  0.00496001]\n"
     ]
    }
   ],
   "source": [
    "model_features = ['Intensive_care','New_positive_cases','Days'] \n",
    "my_output = 'People_tested'\n",
    "\n",
    "#call the get_nupy_data method to calculate the feature matrix and output. Store them in the variables \"multi_feature_matrix\" & \"output\"\n",
    "\n",
    "(multi_feature_matrix, output) = get_numpy_data(data, model_features, my_output)\n",
    "\n",
    "# Initialize the weights, step size and tolerance\n",
    "# STUDENT: Start of code\n",
    "# STUDENT: Specify the initial_weights, step_size, and tolerance\n",
    "initial_weights = [-0.15, -0.05, 0.5, 0.88]\n",
    "step_size = 1e-5\n",
    "tolerance = 1.5\n",
    "# end of code\n",
    "weight_2 = regression_gradient_descent(multi_feature_matrix, output, initial_weights, step_size, tolerance)\n",
    "print (\"Here are the final weights after convergence:\")\n",
    "print (weight_2)"
   ]
  },
  {
   "cell_type": "markdown",
   "metadata": {},
   "source": [
    "**Task P8:** Use the learned weights to predict 'People_tested' in the last three weeks in the dataset.Find the value of the model predictions on the 10th day of the forecasting period.Also print the actual number of people tested on that particular day. Copy the predictions to the solution file, and calculate the test error. Note: here we are asking you to report the number before normalization. So you need to convert the prediction back to the unit of people."
   ]
  },
  {
   "cell_type": "code",
   "execution_count": 23,
   "metadata": {
    "colab": {
     "base_uri": "https://localhost:8080/",
     "height": 919
    },
    "colab_type": "code",
    "id": "EjDMsSxtwWHY",
    "outputId": "b1d98d68-5301-4f1a-8fdc-0e2345714769"
   },
   "outputs": [
    {
     "name": "stdout",
     "output_type": "stream",
     "text": [
      "0.9083511780398816\n",
      "Model prediction of the 10th day: 9124376\n",
      "Actual number of people tested on the 10th day: 8725909\n"
     ]
    },
    {
     "name": "stderr",
     "output_type": "stream",
     "text": [
      "<ipython-input-9-ea0b874cb38f>:9: SettingWithCopyWarning: \n",
      "A value is trying to be set on a copy of a slice from a DataFrame.\n",
      "Try using .loc[row_indexer,col_indexer] = value instead\n",
      "\n",
      "See the caveats in the documentation: https://pandas.pydata.org/pandas-docs/stable/user_guide/indexing.html#returning-a-view-versus-a-copy\n",
      "  data_frame['constant'] = 1 # here we are adding a constant column\n"
     ]
    }
   ],
   "source": [
    "(test_feature_matrix, test_output) = get_numpy_data(test_data, model_features, my_output)\n",
    "\n",
    "test_predictions_2 = predict_output(test_feature_matrix, weight_2)\n",
    "\n",
    "#Prediction for the 10th day of the forecasting period.\n",
    "print (test_predictions_2[10])\n",
    "\n",
    "#Convert the normalized data back to original figures using the same min-max normalization\n",
    "prediction_10th_day = test_predictions_2[10] * (data_orig['People_tested'].max() - data_orig['People_tested'].min()) + data_orig['People_tested'].min()\n",
    "\n",
    "print (\"Model prediction of the 10th day:\",int(prediction_10th_day))\n",
    "\n",
    "# Get the actual number of people tested from our test data on 10 th day of forecasting period.\n",
    "actual_people_tested = data_orig[\"People_tested\"].iloc[190]\n",
    "\n",
    "print (\"Actual number of people tested on the 10th day:\",actual_people_tested)\n"
   ]
  },
  {
   "cell_type": "code",
   "execution_count": 24,
   "metadata": {},
   "outputs": [
    {
     "name": "stdout",
     "output_type": "stream",
     "text": [
      "71041222945.10501\n"
     ]
    }
   ],
   "source": [
    "# Calculate the test error\n",
    "# STUDENT: Start of code\n",
    "error_m = 0\n",
    "norm = data_orig['People_tested'].max() - data_orig['People_tested'].min()\n",
    "intercept = data_orig['People_tested'].min()\n",
    "for i in range(len(test_predictions_2)):\n",
    "    error_m += ((test_data[\"People_tested\"][185 + i] - test_predictions_2[i]) * norm + intercept) ** 2\n",
    "error_m /= len(test_predictions)\n",
    "print(error_m)\n",
    "\n",
    "# end of code"
   ]
  },
  {
   "cell_type": "markdown",
   "metadata": {
    "colab_type": "text",
    "id": "TjMi9-rKux4y"
   },
   "source": [
    "# Explore on your own"
   ]
  },
  {
   "cell_type": "markdown",
   "metadata": {
    "colab_type": "text",
    "id": "UyzUUzfOux4z"
   },
   "source": [
    "Now that you have tried two models for predictions, in this section, you can explore on your own an aspect of the problem that interests you. Here are some examples:\n",
    "* What features or what combination of features are most predictive for 'People_tested'?\n",
    "* How does tolerance for convergence affect prediction errors?\n",
    "* How does step size affect prediction errors?\n",
    "* How can we use validation to select the set of features to improve prediction?\n",
    "\n",
    "Report your question of investigation, as well as your results/interpretation in the solution file."
   ]
  },
  {
   "cell_type": "markdown",
   "metadata": {},
   "source": [
    "Q: what is the optimal initial weights that provides the best gradient descent results\n",
    "Method:\n",
    "* iterate through a range of values for the inital weights\n",
    "* calculate the test error for each combination of weights\n",
    "* refocus the range of inital weights\n",
    "\n",
    "Results:\n",
    "* first iteration all values (0, 1, 0.2) yielded [0.0, 0.0, 0.6, 0.8]\n",
    "* second iteration with [0, 0, (0.5, 0.7), (0.7, 0.9)] yielded [0, 0, 0.57, 0.87]\n",
    "* third iteration with [(-0.1, 0.1), (-0.1, 0.1), (0.5, 0.6), (0.8, 0.9)] yielded (108238227940.11084, [-0.1, -0.1, 0.5, 0.88])\n",
    "* fourth iteration with [(-0.3, 0.), (-0.3, 0.), (0.5, 0.6), (0.8, 0.9)] yielded (71041222945.10503, [-0.15, -0.05, 0.5, 0.88])"
   ]
  },
  {
   "cell_type": "code",
   "execution_count": 25,
   "metadata": {
    "colab": {},
    "colab_type": "code",
    "id": "QE7JK14Mux4z"
   },
   "outputs": [
    {
     "name": "stderr",
     "output_type": "stream",
     "text": [
      "<ipython-input-9-ea0b874cb38f>:9: SettingWithCopyWarning: \n",
      "A value is trying to be set on a copy of a slice from a DataFrame.\n",
      "Try using .loc[row_indexer,col_indexer] = value instead\n",
      "\n",
      "See the caveats in the documentation: https://pandas.pydata.org/pandas-docs/stable/user_guide/indexing.html#returning-a-view-versus-a-copy\n",
      "  data_frame['constant'] = 1 # here we are adding a constant column\n"
     ]
    },
    {
     "name": "stdout",
     "output_type": "stream",
     "text": [
      "[-0.2, -0.15000000000000002, 0.52, 0.8700000000000001]                                                                                                                                                                                                                                                                                                                                                                                                                                                                                                                                                                                                                                                                                                                                                                                                                                                                                                                                                                                                                                                                                                                                                                                                                                                                                                                                                                                                                                                                                                                                                                                                                                                                                                                                                                                                                                                                                                                                                                                                                                                                                                                                                                                                                                                                                                                                                                                                                                                                                                                                                                                                                                                                                                                                                                                                                                                                                                                                                                                                                                                                                                                                                                                                                                                                                                                                                                                                                                                                                                                                                                                                                                                                                                                                                                                                                                                                                                                                                                                                                                                                                                                                                                                                                                                                                                                                                                                                                                                                                                                                                                                                                                                                                                                                                                                                                                                                                                                                                                                                                                                                                                                                                                                                                                                                                                                                                                                                                                                                                                                                                                                                                                                                                                                                                                                                                                                                                                                                                                                                                                                                                                                                                                                                                                                                                                                                                                                                                                                                                                                                                                                                                                                                                                                                                                                                                                                                                                                                                                                                                                                                                                                                                                                                                                                                                                                                                                                                                                                                                                                                                                                                                                                                                                                                                                                                                                                                                                                                                                                                                                                                                                                                                                                                                                                                                                                                                                                                                                                                                "
     ]
    },
    {
     "name": "stdout",
     "output_type": "stream",
     "text": [
      "[-0.050000000000000044, -0.10000000000000003, 0.5, 0.8300000000000001]                                                                                                                                                                                                                                                                                                                                                                                                                                                                                                                                                                                                                                                                                                                                                                                                                                                                                                                                                                                                                                                                                                                                                                                                                                                                                                                                                                                                                                                                                                                                                                                                                                                                                                                                                                                                                                                                                                                                                                                                                                                                                                                                                                                                                                                                                                                                                                                                                                                                                                                                                                                                                                                                                                                                                                                                                                                                                                                                                                                                                                                                                                                                                                                                                                                                                                                                                                                                                                                                                                                                                                                                                                                                                                                                                                                                                                                                                                                                                                                                                                                                                                                                                                                                                                                                                                                                                                                                                                                                                                                                                                                                                                                                                                                                                                                                                                                                                                                                                                                                                                                                                                                                                                                                                                                                                                                                                                                                                                                                                                                                                                                                                                                                                                                                                                                                                                                                                                                                                                                                                                                                                                                                                                                                                                                                                                                                                                                                                                                                                                                                                                                                                                                                                                                                                                                                                                                                                                                                                                                                                                                                                                                                                                                                                                                                                                                                                                                                                                                                                                                                                                                                                                                                                                                                                                                                                                                                                                                                                                                                                                                                                                                                                                                                                                                                                                                                                                                                                                                                                  \r"
     ]
    },
    {
     "name": "stdout",
     "output_type": "stream",
     "text": [
      "[-0.050000000000000044, -0.050000000000000044, 0.5900000000000001, 0.8900000000000001]                                                                                                                                                                                                                                                                                                                                                                                                                                                                                                                                                                                                                                                                                                                                                                                                                                                                                                                                                                                                                                                                                                                                                                                                                                                                                                                                              \r"
     ]
    }
   ],
   "source": [
    "# Explore an aspect of the model that interests you\n",
    "### STUDENT: Start of code\n",
    "step_size = 1e-5\n",
    "tolerance = 1.5\n",
    "errors = []\n",
    "\n",
    "initial_weight_matrix = [[i for i in np.arange(-0.3, 0., 0.05)], [j for j in np.arange(-0.3, 0., 0.05)], [k for k in np.arange(0.5, 0.6, 0.01)], [l for l in np.arange(0.8, 0.9, 0.01)]]\n",
    "\n",
    "for x in initial_weight_matrix[0]:\n",
    "    for y in initial_weight_matrix[1]:\n",
    "        for z in initial_weight_matrix[2]:\n",
    "            for w in initial_weight_matrix[3]:\n",
    "                initial_weights = [x, y, z, w]\n",
    "                print(initial_weights, \"                                                                            \", end='\\r')\n",
    "                weight_2 = regression_gradient_descent(multi_feature_matrix, output, initial_weights, step_size, tolerance)\n",
    "                (test_feature_matrix, test_output) = get_numpy_data(test_data, model_features, my_output)\n",
    "                test_predictions_2 = predict_output(test_feature_matrix, weight_2)\n",
    "                error_n = 0\n",
    "                for i in range(len(test_predictions_2)):\n",
    "                    error_n += ((test_data[\"People_tested\"][185 + i] - test_predictions_2[i]) * norm + intercept) ** 2\n",
    "                error_n /= len(test_predictions)\n",
    "                errors.append( (error_n, initial_weights) )\n",
    "                    \n",
    "### End of code"
   ]
  },
  {
   "cell_type": "code",
   "execution_count": 26,
   "metadata": {},
   "outputs": [
    {
     "name": "stdout",
     "output_type": "stream",
     "text": [
      "optimized initial weights:\n",
      "minimized error: 71041222945.10503\n",
      "initial weights: [-0.15000000000000002, -0.050000000000000044, 0.5, 0.8800000000000001]\n"
     ]
    }
   ],
   "source": [
    "errors.sort(key = operator.itemgetter(0))\n",
    "print(\"optimized initial weights:\")\n",
    "print(\"minimized error:\", errors[0][0])\n",
    "print(\"initial weights:\", errors[0][1])"
   ]
  },
  {
   "cell_type": "code",
   "execution_count": null,
   "metadata": {},
   "outputs": [],
   "source": []
  }
 ],
 "metadata": {
  "colab": {
   "name": "linear_regression.ipynb",
   "provenance": []
  },
  "kernelspec": {
   "display_name": "Python 3",
   "language": "python",
   "name": "python3"
  },
  "language_info": {
   "codemirror_mode": {
    "name": "ipython",
    "version": 3
   },
   "file_extension": ".py",
   "mimetype": "text/x-python",
   "name": "python",
   "nbconvert_exporter": "python",
   "pygments_lexer": "ipython3",
   "version": "3.8.3"
  }
 },
 "nbformat": 4,
 "nbformat_minor": 1
}
