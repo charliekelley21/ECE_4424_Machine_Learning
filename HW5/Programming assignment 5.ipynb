{
 "cells": [
  {
   "cell_type": "markdown",
   "metadata": {},
   "source": [
    "# Distributed Representation for Word Embeddings"
   ]
  },
  {
   "cell_type": "markdown",
   "metadata": {},
   "source": [
    "In this programming assignment, we will experiment with distributed representations of words. We'll also see how such an embedding can be constructed by applying principal component analysis to a suitably transformed matrix of word co-occurrence probabilities. For computational reasons, we'll use the moderately sized **Brown corpus of present-day American English** for this."
   ]
  },
  {
   "cell_type": "markdown",
   "metadata": {},
   "source": [
    "## 1. Accessing the Brown corpus"
   ]
  },
  {
   "cell_type": "markdown",
   "metadata": {},
   "source": [
    "The *Brown corpus* is available as part of the Python Natural Language Toolkit (`nltk`)."
   ]
  },
  {
   "cell_type": "code",
   "execution_count": 1,
   "metadata": {},
   "outputs": [
    {
     "name": "stderr",
     "output_type": "stream",
     "text": [
      "[nltk_data] Downloading package brown to\n",
      "[nltk_data]     C:\\Users\\chuck\\AppData\\Roaming\\nltk_data...\n",
      "[nltk_data]   Package brown is already up-to-date!\n",
      "[nltk_data] Downloading package stopwords to\n",
      "[nltk_data]     C:\\Users\\chuck\\AppData\\Roaming\\nltk_data...\n",
      "[nltk_data]   Package stopwords is already up-to-date!\n"
     ]
    }
   ],
   "source": [
    "import numpy as np\n",
    "import math\n",
    "import pickle\n",
    "import nltk\n",
    "nltk.download('brown')\n",
    "nltk.download('stopwords')\n",
    "from nltk.corpus import brown, stopwords\n",
    "from scipy.cluster.vq import kmeans2\n",
    "from sklearn.decomposition import PCA\n",
    "from scipy.spatial import distance"
   ]
  },
  {
   "cell_type": "markdown",
   "metadata": {},
   "source": [
    "The corpus consists of 500 samples of text drawn from a wide range of sources. When these are concatenated, they form a very long stream of over a million words, which is available as `brown.words()`. Let's look at the first 50 words."
   ]
  },
  {
   "cell_type": "code",
   "execution_count": 2,
   "metadata": {},
   "outputs": [
    {
     "name": "stdout",
     "output_type": "stream",
     "text": [
      "The\n",
      "Fulton\n",
      "County\n",
      "Grand\n",
      "Jury\n",
      "said\n",
      "Friday\n",
      "an\n",
      "investigation\n",
      "of\n",
      "Atlanta's\n",
      "recent\n",
      "primary\n",
      "election\n",
      "produced\n",
      "``\n",
      "no\n",
      "evidence\n",
      "''\n",
      "that\n",
      "any\n",
      "irregularities\n",
      "took\n",
      "place\n",
      ".\n",
      "The\n",
      "jury\n",
      "further\n",
      "said\n",
      "in\n",
      "term-end\n",
      "presentments\n",
      "that\n",
      "the\n",
      "City\n",
      "Executive\n",
      "Committee\n",
      ",\n",
      "which\n",
      "had\n",
      "over-all\n",
      "charge\n",
      "of\n",
      "the\n",
      "election\n",
      ",\n",
      "``\n",
      "deserves\n",
      "the\n",
      "praise\n"
     ]
    }
   ],
   "source": [
    "for i in range(50):\n",
    "    print (brown.words()[i],)"
   ]
  },
  {
   "cell_type": "markdown",
   "metadata": {},
   "source": [
    "Before doing anything else, let's remove stopwords and punctuation and make everything lowercase. The resulting sequence will be stored in `my_word_stream`."
   ]
  },
  {
   "cell_type": "code",
   "execution_count": 3,
   "metadata": {},
   "outputs": [],
   "source": [
    "my_stopwords = set(stopwords.words('english'))\n",
    "word_stream = [str(w).lower() for w in brown.words() if w.lower() not in my_stopwords]\n",
    "my_word_stream = [w for w in word_stream if (len(w) > 1 and w.isalnum())]"
   ]
  },
  {
   "cell_type": "markdown",
   "metadata": {},
   "source": [
    "Here are the initial 20 words in `my_word_stream`."
   ]
  },
  {
   "cell_type": "code",
   "execution_count": 4,
   "metadata": {},
   "outputs": [
    {
     "data": {
      "text/plain": [
       "['fulton',\n",
       " 'county',\n",
       " 'grand',\n",
       " 'jury',\n",
       " 'said',\n",
       " 'friday',\n",
       " 'investigation',\n",
       " 'recent',\n",
       " 'primary',\n",
       " 'election',\n",
       " 'produced',\n",
       " 'evidence',\n",
       " 'irregularities',\n",
       " 'took',\n",
       " 'place',\n",
       " 'jury',\n",
       " 'said',\n",
       " 'presentments',\n",
       " 'city',\n",
       " 'executive']"
      ]
     },
     "execution_count": 4,
     "metadata": {},
     "output_type": "execute_result"
    }
   ],
   "source": [
    "my_word_stream[:20]"
   ]
  },
  {
   "cell_type": "markdown",
   "metadata": {},
   "source": [
    "## 2. Computing co-occurrence probabilities"
   ]
  },
  {
   "cell_type": "markdown",
   "metadata": {},
   "source": [
    "**Task P1**: Complete the following code to get a list of words and their counts. Report how many times does the word \"evidence\" and \"investigation\" appears in the corpus."
   ]
  },
  {
   "cell_type": "code",
   "execution_count": 5,
   "metadata": {},
   "outputs": [],
   "source": [
    "N = len(my_word_stream)\n",
    "words = []\n",
    "totals = {}\n",
    "\n",
    "## STUDENT: Your code here\n",
    "# words: a python list of unique words in the document my_word_stream as the vocabulary\n",
    "# totals: a python dictionary, where each word is a key, and the corresponding value\n",
    "#         is the number of times this word appears in the document my_word_stream\n",
    "\n",
    "for word in my_word_stream:\n",
    "    if word in words:\n",
    "        totals[word] += 1\n",
    "    else:\n",
    "        totals[word] = 1\n",
    "        words.append(word)\n",
    "    \n",
    "## STUDENT CODE ENDS"
   ]
  },
  {
   "cell_type": "code",
   "execution_count": 6,
   "metadata": {},
   "outputs": [
    {
     "name": "stdout",
     "output_type": "stream",
     "text": [
      "Word \" produced \" appears  90  times\n",
      "Word \" friday \" appears  60  times\n"
     ]
    }
   ],
   "source": [
    "## STUDENT: Report how many times does the word \"evidence\" and \"investigation\" appears in the corpus.\n",
    "print('Word \"',words[10],'\" appears ',totals[words[10]], ' times')\n",
    "print('Word \"',words[5],'\" appears ',totals[words[5]], ' times')"
   ]
  },
  {
   "cell_type": "markdown",
   "metadata": {},
   "source": [
    "** Task P2**: Decide on the vocabulary. There are two potentially distinct vocabularies: the words for which we will obtain embeddings (`vocab_words`) and the words we will consider when looking at context information (`context_words`). We will take the former to be all words that occur at least 20 times, and the latter to be all words that occur at least 100 times. We will stick to these choices for this assignment, but feel free to play around with them and find something better.\n",
    "\n",
    "How large are these two word lists? Note down these numbers."
   ]
  },
  {
   "cell_type": "code",
   "execution_count": 7,
   "metadata": {},
   "outputs": [
    {
     "name": "stdout",
     "output_type": "stream",
     "text": [
      "Number of vocabulary words  4720 ;\n",
      "Number of context words  918 ;\n"
     ]
    }
   ],
   "source": [
    "## STUDENT: Your code here\n",
    "\n",
    "vocab_words = [] # a list of words whose occurances (totals) are > 19\n",
    "context_words = [] # a list of words whose occurances (totals) are > 99\n",
    "\n",
    "for word in words:\n",
    "    if totals[word] > 19:\n",
    "        vocab_words.append(word)\n",
    "        if totals[word] > 99:\n",
    "            context_words.append(word)\n",
    "\n",
    "## STUDENT CODE ENDS\n",
    "print('Number of vocabulary words ',len(vocab_words), ';')\n",
    "print('Number of context words ',len(context_words), ';') "
   ]
  },
  {
   "cell_type": "markdown",
   "metadata": {},
   "source": [
    "**Task P3**: Get co-occurrence counts. These are defined as follows, for a small constant `window_size=2`.\n",
    "\n",
    "* Let `w0` be any word in `vocab_words` and `w` any word in `context_words`.\n",
    "* Each time `w0` occurs in the corpus, look at the window of `window_size` words before and after it. If `w` appears in this window, we say it appears in the context of (this particular occurrence of) `w0`.\n",
    "* Define `counts[w0][w]` as the total number of times `w` occurs in the context of `w0`.\n",
    "\n",
    "Complete the function `get_counts`, which computes the `counts` array and returns it as a dictionary (of dictionaries). Find how many times the word \"fact\" appears in the context of ”evidence\" with window_size=2."
   ]
  },
  {
   "cell_type": "code",
   "execution_count": 8,
   "metadata": {},
   "outputs": [],
   "source": [
    "def get_counts(window_size=2):\n",
    "    ## Input:\n",
    "    #  window_size: for each word w0, its context includes window_size words before and after it. \n",
    "    #  For instance, if window_size = 2, it means we look at w1 w2 w0 w3 w4, where  w1, w2, w3, w4 are \n",
    "    #  context woreds\n",
    "    ## Output:\n",
    "    #  counts: a python dictionary (of dictionaries) where counts[w0][w] indicate the number of times the word w appears \n",
    "    #  in the context of w0 (Note: counts[w0] is also a python dictionary)\n",
    "    \n",
    "    counts = {}\n",
    "    for w0 in vocab_words:\n",
    "        counts[w0] = {}\n",
    "        \n",
    "    for i, word in enumerate(my_word_stream):\n",
    "        if word in vocab_words:\n",
    "            for j in range(max(0, i-window_size), min(len(my_word_stream), i+window_size) ):\n",
    "                if i == j:\n",
    "                    continue\n",
    "                count_word = my_word_stream[j]\n",
    "                if count_word in context_words:\n",
    "                    if count_word in counts[word].keys():\n",
    "                        counts[word][count_word] += 1\n",
    "                    else:\n",
    "                        counts[word][count_word] = 1\n",
    "                \n",
    "    ## STUDENT: Your code here\n",
    "    \n",
    "    \n",
    "    ## End of codes\n",
    "    return counts"
   ]
  },
  {
   "cell_type": "code",
   "execution_count": 9,
   "metadata": {},
   "outputs": [
    {
     "name": "stdout",
     "output_type": "stream",
     "text": [
      "{'obtained': 2, 'persons': 1, 'said': 3, 'much': 5, 'blue': 1, 'long': 1, 'would': 2, 'however': 4, 'several': 4, 'spent': 1, 'going': 1, 'limited': 2, 'rather': 2, 'meeting': 1, 'western': 1, 'record': 1, 'court': 2, 'little': 7, 'late': 1, 'find': 1, 'good': 1, 'effort': 1, 'another': 2, 'hope': 1, 'piece': 1, 'available': 6, 'less': 1, 'nothing': 2, 'level': 1, 'added': 1, 'great': 3, 'strong': 2, 'make': 3, 'necessary': 1, 'look': 2, 'existence': 1, 'especially': 1, 'among': 2, 'students': 2, 'earth': 2, 'real': 1, 'turn': 1, 'enough': 2, 'industry': 1, 'stand': 1, 'property': 1, 'music': 1, 'many': 2, 'bad': 1, 'question': 1, 'together': 1, 'new': 3, 'life': 1, 'power': 2, 'points': 2, 'lead': 1, 'trial': 2, 'years': 2, 'fact': 3, 'wanted': 1, 'better': 1, 'likely': 1, 'clear': 2, 'various': 1, 'written': 2, 'actually': 1, 'personal': 1, 'national': 1, 'responsibility': 1, 'support': 2, 'ago': 1, 'provide': 1, 'deal': 1, 'us': 2, 'first': 3, 'growth': 1, 'unless': 1, 'gives': 2, 'gave': 2, 'light': 1, 'mean': 1, 'beginning': 1, 'since': 3, 'method': 1, 'taking': 1, 'number': 1, 'defense': 1, 'soon': 1, 'use': 4, 'knowledge': 1, 'general': 1, 'like': 2, 'away': 1, 'want': 1, 'come': 2, 'take': 1, 'full': 1, 'returned': 1, 'one': 2, 'recently': 2, 'types': 1, 'meant': 1, 'show': 1, 'time': 1, 'material': 1, 'period': 2, 'consider': 1, 'based': 1, 'evidence': 3, 'made': 1, 'difference': 2, 'straight': 1, 'suggested': 1, 'religion': 1, 'either': 1, 'well': 1, 'main': 1, 'course': 2, 'taken': 1, 'given': 3, 'interest': 1, 'working': 1, 'countries': 1, 'upon': 1, 'federal': 1, 'developed': 1, 'face': 1, 'growing': 1, 'early': 1, 'af': 1, 'aj': 1, 'though': 4, 'unit': 1, 'important': 2, 'direct': 2, 'give': 2, 'side': 1, 'waiting': 1, 'present': 4, 'far': 2, 'yet': 1, 'family': 1, 'lower': 1, 'except': 1, 'numbers': 1, 'population': 1, 'may': 1, 'statement': 2, 'methods': 1, 'mind': 1, 'related': 1, 'research': 1, 'cases': 1, 'hold': 1, 'larger': 1, 'problems': 2, 'found': 1, 'local': 1, 'provided': 1, 'running': 1, 'example': 1, 'amount': 1, 'order': 1, 'attitude': 1, 'longer': 2, 'hand': 1, 'eyes': 1, 'closed': 1, 'following': 1, 'simply': 1, 'physical': 1, 'dark': 1, 'must': 2, 'world': 1, 'easy': 1, 'thinking': 1, 'wrote': 1, 'indeed': 1, 'best': 3, 'comes': 2, 'could': 2, 'brown': 1, 'considered': 1, 'different': 2, 'kind': 1, 'perhaps': 1, 'recent': 1, 'really': 1, 'matter': 1, 'police': 1, 'anything': 1, 'sort': 1, 'get': 1, 'man': 1, 'received': 1, 'outside': 1}\n"
     ]
    }
   ],
   "source": [
    "## STUDENT: Report how many times the word \"fact\" appears in the context of ”evidence\".\n",
    "counts = get_counts(window_size=2)\n",
    "print(counts['evidence'])"
   ]
  },
  {
   "cell_type": "markdown",
   "metadata": {},
   "source": [
    "Define `probs[w0][]` to be the distribution over the context of `w0`, that is:\n",
    "* `probs[w0][w] = counts[w0][w] / (sum of all counts[w0][])`\n",
    "\n",
    "**Task P4**: Finish the function `get_co_occurrence_dictionary` that computes `probs`. Find the probability that the word \"fact\" appears in the context of ”evidence\"."
   ]
  },
  {
   "cell_type": "code",
   "execution_count": 10,
   "metadata": {},
   "outputs": [],
   "source": [
    "def get_co_occurrence_dictionary(counts):\n",
    "    ## Input:\n",
    "    #  counts: a python dictionary (of dictionaries) where counts[w0][w] indicate the number of times the word w appears \n",
    "    #  in the context of w0 (Note: counts[w0] is also a python dictionary)\n",
    "    ## Output:\n",
    "    #  probs: a python dictionary (of dictionaries) where probs[w0][w] indicate the probability that word w appears \n",
    "    #  in the context of word w0\n",
    "    \n",
    "    probs = {}\n",
    "    \n",
    "    for w0 in vocab_words:\n",
    "        probs[w0] = {}\n",
    "    \n",
    "    for word in counts.keys():\n",
    "        total = 0\n",
    "        \n",
    "        for subword in counts[word].keys():\n",
    "            total += counts[word][subword]\n",
    "            \n",
    "        for subword in counts[word].keys():\n",
    "            probs[word][subword] = float(counts[word][subword]) / float(total)\n",
    "    \n",
    "    ## STUDENT: Your code here\n",
    "    \n",
    "    ## End of codes\n",
    "    return probs"
   ]
  },
  {
   "cell_type": "code",
   "execution_count": 11,
   "metadata": {
    "scrolled": true
   },
   "outputs": [
    {
     "name": "stdout",
     "output_type": "stream",
     "text": [
      "0.010416666666666666\n"
     ]
    }
   ],
   "source": [
    "## STUDENT: Report how many times the word \"fact\" appears in the context of ”evidence\".\n",
    "probs = get_co_occurrence_dictionary(counts)\n",
    "print(probs['evidence']['fact'])"
   ]
  },
  {
   "cell_type": "markdown",
   "metadata": {},
   "source": [
    "The final piece of information we need is the frequency of different context words. The function below, `get_context_word_distribution`, takes `counts` as input and returns (again, in dictionary form) the array:\n",
    "\n",
    "* `context_frequency[w]` = sum of all `counts[][w]` / sum of all `counts[][]` "
   ]
  },
  {
   "cell_type": "code",
   "execution_count": 12,
   "metadata": {},
   "outputs": [],
   "source": [
    "def get_context_word_distribution(counts):\n",
    "    counts_context = {}\n",
    "    sum_context = 0\n",
    "    context_frequency = {}\n",
    "    for w in context_words:\n",
    "        counts_context[w] = 0\n",
    "    for w0 in counts.keys():\n",
    "        for w in counts[w0].keys():\n",
    "            counts_context[w] = counts_context[w] + counts[w0][w]\n",
    "            sum_context = sum_context + counts[w0][w]\n",
    "    for w in context_words:\n",
    "        context_frequency[w] = float(counts_context[w])/float(sum_context)\n",
    "    return context_frequency"
   ]
  },
  {
   "cell_type": "markdown",
   "metadata": {},
   "source": [
    "## 3. The embedding"
   ]
  },
  {
   "cell_type": "markdown",
   "metadata": {},
   "source": [
    "**Task P5**: Based on the various pieces of information above, we compute the **pointwise mutual information matrix**:\n",
    "* `PMI[i,j] = MAX(0, log probs[ith vocab word][jth context word] - log context_frequency[jth context word])`\n",
    "\n",
    "Complete the code to compute PMI for every word i and context word j. Report the output of the code."
   ]
  },
  {
   "cell_type": "code",
   "execution_count": 13,
   "metadata": {},
   "outputs": [
    {
     "name": "stdout",
     "output_type": "stream",
     "text": [
      "Computing counts and distributions\n",
      "Computing pointwise mutual information\n"
     ]
    }
   ],
   "source": [
    "print (\"Computing counts and distributions\")\n",
    "counts = get_counts(2)\n",
    "probs = get_co_occurrence_dictionary(counts)\n",
    "context_frequency = get_context_word_distribution(counts)\n",
    "#\n",
    "print (\"Computing pointwise mutual information\")\n",
    "n_vocab = len(vocab_words)\n",
    "n_context = len(context_words)\n",
    "pmi = np.zeros((n_vocab, n_context))\n",
    "for i in range(0, n_vocab):\n",
    "    w0 = vocab_words[i]\n",
    "    for w in probs[w0].keys():\n",
    "        j = context_words.index(w)\n",
    "        ## STUDENT: Your code here\n",
    "        diff_logs = math.log(probs[w0][w]) - math.log(context_frequency[w])\n",
    "        pmi[i,j] = max(0, diff_logs)\n",
    "        ## Student end of code"
   ]
  },
  {
   "cell_type": "code",
   "execution_count": 14,
   "metadata": {},
   "outputs": [
    {
     "name": "stdout",
     "output_type": "stream",
     "text": [
      "1.6657997172507537\n"
     ]
    }
   ],
   "source": [
    "# STUDENT: report the following number\n",
    "print(pmi[vocab_words.index('evidence'),context_words.index('fact')])"
   ]
  },
  {
   "cell_type": "markdown",
   "metadata": {},
   "source": [
    "The embedding of any word can then be taken as the corresponding row of this matrix. However, to reduce the dimension, we will apply principal component analysis (PCA).\n",
    "\n",
    "See this nice tutorial on PCA: https://www.youtube.com/watch?v=fkf4IBRSeEc\n",
    "\n",
    "Now reduce the dimension of the PMI vectors using principal component analysis. Here we bring it down to 100 dimensions, and then normalize the vectors to unit length."
   ]
  },
  {
   "cell_type": "code",
   "execution_count": 15,
   "metadata": {},
   "outputs": [],
   "source": [
    "pca = PCA(n_components=100)\n",
    "vecs = pca.fit_transform(pmi)\n",
    "for i in range(0,n_vocab):\n",
    "    vecs[i] = vecs[i]/np.linalg.norm(vecs[i])"
   ]
  },
  {
   "cell_type": "markdown",
   "metadata": {},
   "source": [
    "It is useful to save this embedding so that it doesn't need to be computed every time."
   ]
  },
  {
   "cell_type": "code",
   "execution_count": 16,
   "metadata": {},
   "outputs": [],
   "source": [
    "fd = open(\"embedding.pickle\", \"wb\")\n",
    "pickle.dump(vocab_words, fd)\n",
    "pickle.dump(context_words, fd)\n",
    "pickle.dump(vecs, fd)\n",
    "fd.close()"
   ]
  },
  {
   "cell_type": "markdown",
   "metadata": {},
   "source": [
    "## 4. Experimenting with the embedding"
   ]
  },
  {
   "cell_type": "markdown",
   "metadata": {},
   "source": [
    "We can get some insight into the embedding by looking at some intersting use cases.\n",
    "\n",
    "** Task P6**: Implement the following function that finds the nearest neighbor of a given word in the embedded space. Note down the answers to the following queries. "
   ]
  },
  {
   "cell_type": "code",
   "execution_count": 17,
   "metadata": {},
   "outputs": [],
   "source": [
    "def word_NN(w,vecs,vocab_words,context_words, K):\n",
    "    ## Input:\n",
    "    #  w: word w\n",
    "    #  vecs: the embedding of words, as computed above\n",
    "    #  vocab_words: vocabulary words, as computed in Task P2\n",
    "    #  context_words: context words, as computed in Task P2\n",
    "    ## Output:\n",
    "    #  the nearest neighbor (word) to word w\n",
    "    if not(w in vocab_words):\n",
    "        print(\"Unknown word\")\n",
    "        return\n",
    "    \n",
    "    ## Student: your code here\n",
    "    w_index = vocab_words.index(w)\n",
    "    distances = []\n",
    "    \n",
    "    #calc all distances\n",
    "    for i, w0 in enumerate(vocab_words):\n",
    "        distances.append((distance.cityblock(vecs[w_index], vecs[i]), w0))\n",
    "        \n",
    "    #find N nearest neighbors\n",
    "    distances.sort(key = lambda x: x[0])\n",
    "    return distances[1:K+1]\n",
    "    ## Student: code ends"
   ]
  },
  {
   "cell_type": "code",
   "execution_count": 18,
   "metadata": {},
   "outputs": [
    {
     "data": {
      "text/plain": [
       "[(7.312658394465592, 'war'),\n",
       " (7.426339216617139, 'peace'),\n",
       " (7.895204315480719, 'nations'),\n",
       " (8.085514937096962, 'history'),\n",
       " (8.094092396138727, 'nation')]"
      ]
     },
     "execution_count": 18,
     "metadata": {},
     "output_type": "execute_result"
    }
   ],
   "source": [
    "word_NN('world',vecs,vocab_words,context_words, 5)"
   ]
  },
  {
   "cell_type": "code",
   "execution_count": 19,
   "metadata": {},
   "outputs": [
    {
     "data": {
      "text/plain": [
       "[(8.62079121669431, 'necessary'),\n",
       " (8.677025570212718, 'even'),\n",
       " (8.866903951615488, 'nevertheless'),\n",
       " (8.908616457534999, 'need'),\n",
       " (8.931364662277659, 'present')]"
      ]
     },
     "execution_count": 19,
     "metadata": {},
     "output_type": "execute_result"
    }
   ],
   "source": [
    "word_NN('learning',vecs,vocab_words,context_words, 5)"
   ]
  },
  {
   "cell_type": "code",
   "execution_count": 20,
   "metadata": {},
   "outputs": [
    {
     "data": {
      "text/plain": [
       "[(8.281225646607872, 'essentially'),\n",
       " (8.590205676306255, 'missiles'),\n",
       " (8.729041905155256, 'increasing'),\n",
       " (8.80162162478013, 'language'),\n",
       " (8.818157045218472, 'science')]"
      ]
     },
     "execution_count": 20,
     "metadata": {},
     "output_type": "execute_result"
    }
   ],
   "source": [
    "word_NN('technology',vecs,vocab_words,context_words, 5)"
   ]
  },
  {
   "cell_type": "code",
   "execution_count": 21,
   "metadata": {},
   "outputs": [
    {
     "data": {
      "text/plain": [
       "[(6.307236775303336, 'woman'),\n",
       " (7.314282450419974, 'never'),\n",
       " (7.375497015074973, 'wife'),\n",
       " (7.409964953112059, 'girl'),\n",
       " (7.482312120189896, 'son')]"
      ]
     },
     "execution_count": 21,
     "metadata": {},
     "output_type": "execute_result"
    }
   ],
   "source": [
    "word_NN('man',vecs,vocab_words,context_words, 5)"
   ]
  },
  {
   "cell_type": "markdown",
   "metadata": {
    "collapsed": true
   },
   "source": [
    "** Task P7**: Implement the function that aims to solve the analogy problem:\n",
    "A is to B as C is to ?\n",
    "For example, A=King, B=Queen, C=man, and the answer for ? should be ideally woman (you will see that this may not be  the case using the distributed representation).\n",
    "\n",
    "Finds the K-nearest neighbor of a given word in the embedded space. Note: instead of outputing only the nearest neighbor, you should find the K=10 nearest neighbors and see whether there is one in the list that makes sense. You should also exclude the words C in the output list.\n",
    "\n",
    "Also report another set A, B, C and the corresponding answer output by your problem. See if it makes sense to you."
   ]
  },
  {
   "cell_type": "code",
   "execution_count": 22,
   "metadata": {},
   "outputs": [],
   "source": [
    "def find_analogy(A,B,C,vecs,vocab_words,context_words, K=10):\n",
    "    ## Input:\n",
    "    #  A, B, C: words A, B, C\n",
    "    #  vecs: the embedding of words, as computed above\n",
    "    #  vocab_words: vocabulary words, as computed in Task P2\n",
    "    #  context_words: context words, as computed in Task P2\n",
    "    ## Output:\n",
    "    #  the word that solves the analogy problem\n",
    "    ## STUDENT: Your code here\n",
    "    if not((A in vocab_words) and (B in vocab_words) and (C in vocab_words)):\n",
    "        print(\"Unknown word\")\n",
    "        return\n",
    "    \n",
    "    ## Student: your code here\n",
    "    a_index = vocab_words.index(A)\n",
    "    b_index = vocab_words.index(B)\n",
    "    c_index = vocab_words.index(C)\n",
    "    \n",
    "    distances = []\n",
    "    \n",
    "    #goals is the closest to (B-A) = (D-C)\n",
    "    #                        D = (B-A)+C\n",
    "    goal = vecs[b_index] - vecs[a_index] + vecs[c_index]\n",
    "    \n",
    "    #calc all distances\n",
    "    for i, w0 in enumerate(vocab_words):\n",
    "        distances.append((distance.cityblock(goal, vecs[i]), w0))\n",
    "        \n",
    "    #find N nearest neighbors\n",
    "    distances.sort(key = lambda x: x[0])  \n",
    "    for i in range(K+1):\n",
    "        print(distances[i])\n",
    "        \n",
    "    D_neighbors = word_NN(C,vecs,vocab_words,context_words, 10)\n",
    "    for d in D_neighbors:\n",
    "        for dist in distances[0:15]:\n",
    "            if d[1] == dist[1]:\n",
    "                print(\"Analogy Answer:\", d[1])\n",
    "                return d\n",
    "    \n",
    "    print(\"no good answers\")\n",
    "    \n",
    "    return distances[0:K+1]\n",
    "\n",
    "    ## STUDENT: your code ends\n"
   ]
  },
  {
   "cell_type": "code",
   "execution_count": 23,
   "metadata": {},
   "outputs": [
    {
     "name": "stdout",
     "output_type": "stream",
     "text": [
      "(8.984697846163128, 'queen')\n",
      "(10.221045264540034, 'man')\n",
      "(11.080216040780813, 'art')\n",
      "(11.489801973996437, 'freely')\n",
      "(11.529140756452565, 'memory')\n",
      "(11.547423299601578, 'woman')\n",
      "(11.590046334557204, 'sky')\n",
      "(11.618110502114387, 'wine')\n",
      "(11.622127840043412, 'shirt')\n",
      "(11.627585684937296, 'red')\n",
      "(11.639262294693893, 'papa')\n",
      "Analogy Answer: woman\n"
     ]
    },
    {
     "data": {
      "text/plain": [
       "(6.307236775303336, 'woman')"
      ]
     },
     "execution_count": 23,
     "metadata": {},
     "output_type": "execute_result"
    }
   ],
   "source": [
    "find_analogy('king','queen','man',vecs,vocab_words,context_words)"
   ]
  },
  {
   "cell_type": "code",
   "execution_count": 24,
   "metadata": {},
   "outputs": [
    {
     "name": "stdout",
     "output_type": "stream",
     "text": [
      "(10.976847489204651, 'sun')\n",
      "(11.011307190325368, 'rain')\n",
      "(11.13379857340074, 'grass')\n",
      "(11.707112338738282, 'shoulders')\n",
      "(11.853601337727882, 'rose')\n",
      "(11.87324305720544, 'floor')\n",
      "(11.88448929727884, 'closed')\n",
      "(11.89065827552857, 'red')\n",
      "(11.980089297445657, 'beneath')\n",
      "(12.054259064471847, 'shining')\n",
      "(12.054601116108604, 'suddenly')\n",
      "Analogy Answer: dark\n"
     ]
    },
    {
     "data": {
      "text/plain": [
       "[(7.7074759000459, 'light'),\n",
       " (7.739082521862044, 'stayed'),\n",
       " (7.891781704320759, 'summer'),\n",
       " (7.940921255599043, 'day'),\n",
       " (8.046904246095046, 'afternoon')]"
      ]
     },
     "execution_count": 24,
     "metadata": {},
     "output_type": "execute_result"
    }
   ],
   "source": [
    "find_analogy('soil','grass','sun',vecs,vocab_words,context_words)\n",
    "word_NN('sun',vecs,vocab_words,context_words, 5)"
   ]
  },
  {
   "cell_type": "code",
   "execution_count": null,
   "metadata": {},
   "outputs": [],
   "source": []
  }
 ],
 "metadata": {
  "kernelspec": {
   "display_name": "Python 3",
   "language": "python",
   "name": "python3"
  },
  "language_info": {
   "codemirror_mode": {
    "name": "ipython",
    "version": 3
   },
   "file_extension": ".py",
   "mimetype": "text/x-python",
   "name": "python",
   "nbconvert_exporter": "python",
   "pygments_lexer": "ipython3",
   "version": "3.8.3"
  },
  "toc": {
   "colors": {
    "hover_highlight": "#DAA520",
    "navigate_num": "#000000",
    "navigate_text": "#333333",
    "running_highlight": "#FF0000",
    "selected_highlight": "#FFD700",
    "sidebar_border": "#EEEEEE",
    "wrapper_background": "#FFFFFF"
   },
   "moveMenuLeft": true,
   "nav_menu": {
    "height": "12px",
    "width": "252px"
   },
   "navigate_menu": true,
   "number_sections": false,
   "sideBar": true,
   "threshold": 4,
   "toc_cell": false,
   "toc_section_display": "block",
   "toc_window_display": false,
   "widenNotebook": false
  }
 },
 "nbformat": 4,
 "nbformat_minor": 2
}
